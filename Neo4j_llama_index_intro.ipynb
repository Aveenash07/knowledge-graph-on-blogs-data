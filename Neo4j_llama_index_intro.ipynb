{
  "cells": [
    {
      "cell_type": "code",
      "source": [
        "!pip install llama-index"
      ],
      "metadata": {
        "id": "g5onlTDQtFlT"
      },
      "execution_count": null,
      "outputs": []
    },
    {
      "cell_type": "code",
      "execution_count": null,
      "metadata": {
        "id": "YenjP38jtRdE"
      },
      "outputs": [],
      "source": [
        "pip install openai"
      ]
    },
    {
      "cell_type": "code",
      "source": [
        "!pip install neo4j\n"
      ],
      "metadata": {
        "id": "RnU7mwkAG2ZH"
      },
      "execution_count": null,
      "outputs": []
    },
    {
      "cell_type": "code",
      "source": [
        "import pandas as pd\n",
        "import openai"
      ],
      "metadata": {
        "id": "V-G2MIt3sW7W"
      },
      "execution_count": null,
      "outputs": []
    },
    {
      "cell_type": "code",
      "source": [
        "from google.colab import drive\n",
        "drive.mount('/content/gdrive')"
      ],
      "metadata": {
        "id": "mPf6qfWIpwCg",
        "outputId": "2126bb8a-8200-4836-bf1f-682b7213c809",
        "colab": {
          "base_uri": "https://localhost:8080/"
        }
      },
      "execution_count": null,
      "outputs": [
        {
          "output_type": "stream",
          "name": "stdout",
          "text": [
            "Mounted at /content/gdrive\n"
          ]
        }
      ]
    },
    {
      "cell_type": "code",
      "source": [
        "\n",
        "data = pd.read_csv(\"/content/gdrive/MyDrive/Q&A_model/dataframe_with_embeddings2.csv\")"
      ],
      "metadata": {
        "id": "SQ-EQJ1ypW4c"
      },
      "execution_count": null,
      "outputs": []
    },
    {
      "cell_type": "code",
      "execution_count": null,
      "metadata": {
        "colab": {
          "base_uri": "https://localhost:8080/"
        },
        "id": "ZT6Z5gW4oTkG",
        "outputId": "46c25736-91bd-4af9-d9ef-bc865a3e48b3"
      },
      "outputs": [
        {
          "output_type": "execute_result",
          "data": {
            "text/plain": [
              "33"
            ]
          },
          "metadata": {},
          "execution_count": 7
        }
      ],
      "source": [
        "len(data)"
      ]
    },
    {
      "cell_type": "markdown",
      "metadata": {
        "id": "IK90FFhf42hd"
      },
      "source": [
        "This code transforms our DataFrame into a list of Document objects, ready for indexing with llama_index. Each document contains the text passage, a unique id, and an extra field for the article title."
      ]
    },
    {
      "cell_type": "code",
      "execution_count": null,
      "metadata": {
        "colab": {
          "base_uri": "https://localhost:8080/"
        },
        "id": "uXOYMGfLtO-Z",
        "outputId": "b58e6c0e-b5b6-47a9-d37a-ef12849d12c3"
      },
      "outputs": [
        {
          "output_type": "execute_result",
          "data": {
            "text/plain": [
              "Document(id_='social.txt_1', embedding=None, metadata={}, excluded_embed_metadata_keys=[], excluded_llm_metadata_keys=[], relationships={}, hash='b91b06bc97dbdd1471b42e3a928891613482bf1a542a2d98527503023a19e254', text='Page # 1\\nMedia for Social Change: Producers, Viewers,\\nContent\\n\\nTopic: Social Change | Words: 10292 Pages: 30 | Feb 12th, 2021\\n\\nIntroduction\\n\\nStatement of Research Issue\\n\\nThis research investigates media for social change may be used to create an environment where people can engage in\\nthe public realm, mediate disagreements, and encourage civil debate. For an informative analysis, | have included my\\npersonal view on media power and discussed communication as the main factor in creating hybrid public space, and\\n\\nencouraged the public to use media as an interactive tool in the field of social society.\\n\\nThe research proposes for reconsideration of media role in creating imaginative and narrative communication avenues\\nin achieving a highly informed society. Our deductive approach touches on audiences’ thoughts, the way they reinterpret\\n\\nthe message, and sediment new knowledge into their daily lives.\\n\\nIt is evidenced that media for social change has enabled the creation of new avenues for grassroots activism and\\ncommunity building. | aim at learning the degree to which media for social change is used and the role of leadership in\\nthis industry. | will conduct a series of interviews with media professionals to find out their attitudes and beliefs in\\nregard to a leadership role in social change. However, the best test, and yet difficult to comprehend, is: do media\\nchange how we function, how we communicate, and more likely become independent? And does it encourage social\\nties? It is evidenced that media for social change has enabled new avenues for grassroots activism and community\\n\\nbuilding.\\n\\nTo do answer this question, we will follow the hypothesis approach of research using quantitative research tools. First,\\nwe will present Paul Ricoeur and Habermas’s theory behind the topic from previous literature. Then we will state our\\nhypotheses on the different relationships. Next, we are going to use interviews to collect some data and analyze it, and\\n\\nfinally, discuss whether the results support our hypotheses and state conclusions and recommendations.\\n\\nBackground\\n\\nMedia plays an important role in creating and influencing the opinion of the public. It does this by linking the ideas of\\nthe producers with their audience whereby the producers pass down their themes to their audience hence changing\\nthe way they perceive certain issues. According to Alia (2004), there exists a direct relationship between the change in\\n\\nthe society and what the media producers are giving the society.\\n\\nIn this relationship, the role of media producers is to generate information from a chain of relations and influences and\\nthe role of the audience is to infer and evaluate the information from the producers and generate other information\\nexternal to the media perspectives. The impacts and implications of the media account not just the way interesting\\nevents are identified, as Ricoeur in the From text to Action, states, but also to a wide range of cultural influences that\\n\\nfunction via the media (Ricoeur1990).\\n\\nRecent research efforts suggest that the media have powerful social and cultural effects on society. This is a result of\\ntheir capability to reach a broad range of audiences with a powerful and transforming message. Alia in work tells us\\nthat the media is the message when trying to how the circulation of a message is more significant than what is in the\\nmessage itself (Alia 2004). The use of media elements such as films, radio, and printed media transmits the producer’s\\n\\nmessage to his or her targeted listeners.\\n\\x0c\\n\\nPage # 2\\nAnd as such the media have been very influential in shaping society’s everyday life and opinions. Particularly, the TV has\\nwide control over what the society watches and as such is capable of manipulating their opinions. Moreover, the\\ninternet provides room for more varied political ideas, social and cultural perspectives and as such it has increased the\\n\\ndegree of audience participation.\\n\\nIt can be said that people will always be influenced by media in a number of ways but however, this hinges on what the\\ntarget audience wants to get from reading an article or watching a film. The idea could be established that media\\nelements such as new stories as seen in television plays a significant role in society as it offers its target audiences\\nwith understandings that make them aware of issues that producers feel their target audience ought to know\\n\\n(Habermas 1985).\\n\\nFor instance, a TV program will at all times influence its target audiences in a number of ways since it is perceived as a\\ntrustworthy source of information that notifies them of what they do not know and as such shows the truths in their\\nmidst. For this reason, it can then be argued that programs like the TV news programs assists their target audience in\\ncreating a picture and an opinion of specific ideas and issues which time and again reflect the news’ beliefs. In short,\\nthere will constantly be an aspect of the producer of a TV program that he or she wants his or her target population to', start_char_idx=None, end_char_idx=None, text_template='{metadata_str}\\n\\n{content}', metadata_template='{key}: {value}', metadata_seperator='\\n')"
            ]
          },
          "metadata": {},
          "execution_count": 9
        }
      ],
      "source": [
        "from llama_index import Document\n",
        "\n",
        "\n",
        "documents = []\n",
        "\n",
        "for i, row in data.iterrows():\n",
        "    documents.append(Document(\n",
        "        text=row['text'],\n",
        "        doc_id=row['file_chunks']\n",
        "\n",
        "    ))\n",
        "documents[0]"
      ]
    },
    {
      "cell_type": "code",
      "execution_count": null,
      "metadata": {
        "colab": {
          "base_uri": "https://localhost:8080/",
          "height": 175
        },
        "id": "hG81jmfCobYF",
        "outputId": "3eea532f-fb3c-422b-84c8-5ccc32d04664"
      },
      "outputs": [
        {
          "output_type": "error",
          "ename": "NameError",
          "evalue": "ignored",
          "traceback": [
            "\u001b[0;31m---------------------------------------------------------------------------\u001b[0m",
            "\u001b[0;31mNameError\u001b[0m                                 Traceback (most recent call last)",
            "\u001b[0;32m<ipython-input-10-0fef51922200>\u001b[0m in \u001b[0;36m<cell line: 1>\u001b[0;34m()\u001b[0m\n\u001b[0;32m----> 1\u001b[0;31m \u001b[0mlen\u001b[0m\u001b[0;34m(\u001b[0m\u001b[0mdocs\u001b[0m\u001b[0;34m)\u001b[0m\u001b[0;34m\u001b[0m\u001b[0;34m\u001b[0m\u001b[0m\n\u001b[0m",
            "\u001b[0;31mNameError\u001b[0m: name 'docs' is not defined"
          ]
        }
      ],
      "source": [
        "len(docs)"
      ]
    },
    {
      "cell_type": "markdown",
      "metadata": {
        "id": "uQ4d9UlS5OeU"
      },
      "source": [
        "Here, we're setting up the OpenAI API key and initializing a `SimpleNodeParser`. This parser processes our list of `Document` objects into 'nodes', which are the basic units that `llama_index` uses for indexing and querying. The first node is displayed below."
      ]
    },
    {
      "cell_type": "code",
      "execution_count": null,
      "metadata": {
        "id": "1MSXio_atoSq"
      },
      "outputs": [],
      "source": [
        "import os\n",
        "\n",
        "os.environ['OPENAI_API_KEY'] = \"\"  # platform.openai.com"
      ]
    },
    {
      "cell_type": "code",
      "source": [
        "import logging\n",
        "import sys\n",
        "\n",
        "logging.basicConfig(\n",
        "    stream=sys.stdout, level=logging.INFO\n",
        ")  # logging.DEBUG for more verbose output\n",
        "\n",
        "from llama_index import (\n",
        "    KnowledgeGraphIndex,\n",
        "    LLMPredictor,\n",
        "    ServiceContext,\n",
        "    SimpleDirectoryReader,\n",
        ")\n",
        "from llama_index.storage.storage_context import StorageContext\n",
        "from llama_index.graph_stores import Neo4jGraphStore\n",
        "from llama_index.llms import OpenAI\n",
        "\n",
        "from IPython.display import Markdown, display\n",
        "\n",
        "\n",
        "# define LLM\n",
        "# NOTE: at the time of demo, text-davinci-002 did not have rate-limit errors\n",
        "llm = OpenAI(temperature=0, model=\"gpt-3.5-turbo\")\n",
        "service_context = ServiceContext.from_defaults(llm=llm, chunk_size=512)"
      ],
      "metadata": {
        "id": "4ZhNhhRNBnRI",
        "colab": {
          "base_uri": "https://localhost:8080/"
        },
        "outputId": "aaf5e7e3-18fc-4d70-bda8-d9a18a44c051"
      },
      "execution_count": null,
      "outputs": [
        {
          "output_type": "stream",
          "name": "stderr",
          "text": [
            "[nltk_data] Downloading package punkt to /tmp/llama_index...\n",
            "[nltk_data]   Unzipping tokenizers/punkt.zip.\n"
          ]
        }
      ]
    },
    {
      "cell_type": "code",
      "source": [
        "\n",
        "\n",
        "username = \"neo4j\"\n",
        "password = \"\"\n",
        "url = \"\"\n",
        "database = \"neo4j\""
      ],
      "metadata": {
        "id": "Guo2x403_Gev"
      },
      "execution_count": null,
      "outputs": []
    },
    {
      "cell_type": "code",
      "source": [
        "graph_store = Neo4jGraphStore(\n",
        "    username=username,\n",
        "    password=password,\n",
        "    url=url,\n",
        "    database=database,\n",
        ")\n",
        "\n",
        "storage_context = StorageContext.from_defaults(graph_store=graph_store)\n",
        "\n",
        "# NOTE: can take a while!\n",
        "index = KnowledgeGraphIndex.from_documents(\n",
        "    documents,\n",
        "    storage_context=storage_context,\n",
        "    max_triplets_per_chunk=2,\n",
        "    service_context=service_context,\n",
        ")"
      ],
      "metadata": {
        "colab": {
          "base_uri": "https://localhost:8080/"
        },
        "id": "X7O7Fl1W_RZu",
        "outputId": "419d15b8-596f-4f78-a514-9c7259f28404"
      },
      "execution_count": null,
      "outputs": [
        {
          "output_type": "stream",
          "name": "stdout",
          "text": [
            "(Media, plays role in, creating)\n",
            "(Media, influencing, opinion)\n",
            "(Media, linking, ideas)\n",
            "(producers, pass down, themes)\n",
            "(producers, audience, perceive)\n",
            "(ideas, audience, perceive)\n",
            "(Alia, states, there exists a direct relationship between the change in the society and what the media producers are giving the society)\n",
            "(media producers, generate, information from a chain of relations and influences)\n",
            "\n",
            "(programs, assists, target audience)\n",
            "(TV news programs, reflect, news' beliefs)\n",
            "(producer, pass, ideas)\n",
            "(producer, aim at, conceiving)\n",
            "(Alia, observes, media functions as system of transmitting messages and representations)\n",
            "(Ricoeur, sees, media as instruments for transmitting information, ideas, and opinions)\n",
            "(media, has, ability)\n",
            "(media, spreads, knowledge)\n",
            "(media, has brought, social transformations)\n",
            "(media, create awareness of, thorny issues)\n",
            "(Ricoeur, According to, 1991)\n",
            "(media, function as, instrument)\n",
            "(media, formulate and evaluate, public opinions)\n",
            "(media, link, world)\n",
            "(media, link, thinkers)\n",
            "(media, rebuild, self picture)\n",
            "(society, rebuild, self picture)\n",
            "(mass media, is seen as, tool for control)\n",
            "(governments, use, media)\n",
            "(Our comprehensive review, summarizes, media as cultural practices)\n",
            "(media, develops and incorporates, components of particular social orders, mentalities, and lived experiences)\n",
            "(media, has power to influence and pull, massive crowds)\n",
            "(producers, need to have, ethics and morals)\n",
            "(3 factors, relate to the ability to create, a social change)\n",
            "(Producer, creative, vision)\n",
            "(Producer, presents, image and message)\n",
            "(Content, touch, people mind)\n",
            "(Content, into, most people interest)\n",
            "(Viewer, interpret, message)\n",
            "(Viewer, transform, new knowledge)\n",
            "(Viewer, fusion of horizons)\n",
            "(Mr.Suttipong Thamma, is, leadership role model)\n",
            "(Mr.Suttipong Thamma, producer, one show in Thailand)\n",
            "(Mr.Suttipong Thamma, language use, beliefs and narrative intelligence)\n",
            "(Mr.Suttipong Thamma, makes viewers, question who they really are)\n",
            "(Mr.Suttipong Thamma, takes, producer's role)\n",
            "(media, help promote, change in society)\n",
            "(literature, positive relationship, competent communication and self understanding)\n",
            "(communication, considered, one of the key factors of organizational success and effectiveness)\n",
            "(main research hypothesis, Communication is positively related to self understanding)\n",
            "(we, will examine, communication)\n",
            "(communication, in, social community)\n",
            "(communication, is positively related to, self understanding)\n",
            "(communication, is positively related to, competent communication)\n",
            "(Suttipong, provides, analysis)\n",
            "(Suttipong, illustrates, dropping occasional story lines)\n",
            "(Habermas, stated, argument)\n",
            "(Habermas, requires, communicative competence)\n",
            "(Comprehension, is depicted to mean, media communication between a producer and a viewer)\n",
            "(Trust, is important in enabling, easy communication on all network avenues)\n",
            "(massive piece of legislation, passed through, congress)\n",
            "(viewers, delegated with, responsibility)\n",
            "(producers and directors, pass on, information)\n",
            "(Gunter Dux documentary show, highlights, educational aspect)\n",
            "(show, invites, guests)\n",
            "(guests, share, personal stories)\n",
            "(value, moral and ethic, more)\n",
            "(network's theme, choose to keep on, watching and reporting)\n",
            "(network's theme, choose to keep on, the story)\n",
            "(Gunter Dux, stated, \"When I enter media industry, I try to relate to what I have seen in my career and to relate to what I can do to inspire change\")\n",
            "(media, has the power to, educate the public)\n",
            "(Christopher Cismowski, watches, The Daily Show with John Stewart)\n",
            "(Christopher Cismowski, introduced to, The Daily Show through a sociology professor)\n",
            "(international media, saw, American media as a joke)\n",
            "(professor, showed, statistics)\n",
            "(media, uses, communicative competence)\n",
            "(media, affects, people)\n",
            "(villages, rotting in, African desert sun)\n",
            "(soldier, raped and murdered, mother)\n",
            "(Studies, described as, key success factor)\n",
            "(communication, through media, in well being)\n",
            "(audience, relates and interacts with, work or story)\n",
            "(audience, uses, new ideas and perspectives)\n",
            "(audience, consumes, information)\n",
            "(audience, interprets, information)\n",
            "(audience, sees, positive and influential peace of art)\n",
            "(audience, consume, information)\n",
            "(audience, interpret, information)\n",
            "(imagination, influences, knowledge)\n",
            "(Einstein, stated, \"imagination is more important than knowledge\")\n",
            "(others, imagination of, because)\n",
            "(chance, take, courage)\n",
            "(imagination, is, foundationless foundation)\n",
            "(imagination, allows, mankind to grow and develop)\n",
            "(imagination, allows us to create, reality)\n",
            "(imagination, see unity-in-difference and difference-in-unity, possibility)\n",
            "( responsibility, lies on, producers)\n",
            "( responsibility, lies on, users)\n",
            "(Alia, wrote, racism)\n",
            "(Bartkowiak, stated, possibility of changing society through TV shows)\n",
            "(guests, share, story)\n",
            "(guests, inspire, society)\n",
            "(producer, enables, society develop new thought)\n",
            "(media, should be, to transform society)\n",
            "(Ricoeur, wrote, Time and narrative)\n",
            "(Ricoeur, wrote, Interpretation Theory: Discourse and the Surplus of Meaning)\n",
            "(Tolstoy, wrote, What is Art?)\n",
            "(Trans, wrote, Oneself as Another)\n",
            "(Yadav, wrote, Television and social change)\n",
            "(Leadership style, has effects on, employees' performance)\n",
            "(Transformational leadership, can be defined as, an approach by which leaders motivate followers)\n",
            "(transformational leadership, enhances, employees' innovative effort)\n",
            "(transformational leaders, articulate, vision)\n",
            "(Transformational leadership, has, negative outcomes)\n",
            "(Transformational leadership, contributes to, enhancement of safety participation)\n",
            "(Huang et al., emphasize, researchers)\n",
            "(abusive supervision, results in, low morale)\n",
            "(employees, perform better when, transformational leadership is utilized)\n",
            "(employees, increasingly affected by, abusive supervision)\n",
            "(Leaders, use abuse to control, subordinates)\n",
            "(Workplace abuse, has three basic elements, systematic)\n",
            "(Causes, of, Workplace Abuse)\n",
            "(Interpersonal Aspects, of, Workplace Abuse)\n",
            "(Workplace abuse, is caused by, interpersonal conflicts)\n",
            "(Workplace abuse, is caused by, inadequate organization and work processes)\n",
            "(Leaders' personal traits, pave the way to, abusive supervision)\n",
            "(Leaders' negative creativity, is closely related to, abusive leadership)\n",
            "(Leaders' attachment orientation, affects, leadership style)\n",
            "(Attachment theory, has been used in, studies examining leadership)\n",
            "(Khan et al., 2017, utilized, dual-process model)\n",
            "(Khan et al., 2017, investigated, role personnel's perspectives)\n",
            "(Nielsen et al., 2017, predictors, exposure to abusive supervision)\n",
            "(Nielsen et al., 2017, implemented, meta-analysis)\n",
            "(Machiavellianism, is associated with, abusive leadership)\n",
            "(abusive supervision, activates, negative traits)\n",
            "(Leaders, intertwine with, CWB norms)\n",
            "(Companies, associated with, strong CWB norms)\n",
            "(employees, can be categorized into, three broad groups)\n",
            "(motivation, is mediated by, sense of meaning derived from work)\n",
            "(Managers, are perpetrators of, abuse)\n",
            "(Workplace abuse, is most frequent in, environments)\n",
            "(organizational management, lies in, ability of managers)\n",
            "(managers, spend, significant time)\n",
            "(Managers, pay, significant costs)\n",
            "(Workplace abuse, is correlated with, gender)\n",
            "(Kemp, is unfulfilled by, career advancement)\n",
            "(van Heugten & Schmitz, is often unfulfilled by, career advancement)\n",
            "(Abuse, causes, stress)\n",
            "(Abuse, causes, anger)\n",
            "(abusers, have the intended goal of, victims leaving the company)\n",
            "(victims, respond to abuse by, offering affection or friendship to their abuser)\n",
            "(Employees, experience, abusive supervision)\n",
            "(Abuse, causes, psychological damage)\n",
            "(employees, suffer from, abuse)\n",
            "(abuse, reduces, productivity)\n",
            "(Workers, have experienced, workplace abuse)\n",
            "(Vertical abuse, leads to, increased turnover of employees)\n",
            "(creative individuals, are valued more highly than, productivity)\n",
            "(abusive leadership, affects, home lives)\n",
            "(transformational leadership, facilitates, employees' creativity)\n",
            "(abusive supervision, influences, creativity)\n",
            "(abusive supervision, deteriorates, employees' sleep patterns)\n",
            "(abusive supervision, increases, employees' exhaustion)\n",
            "(abusive supervision, decreases, personnel's creativity)\n",
            "(abusive supervision, hinders, effectiveness of creativity processes)\n",
            "(abusive supervision, influences, knowledge hiding)\n",
            "(reciprocity beliefs, impact, attitude and responses)\n",
            "(knowledge hiding, decreases, personnel's creativity)\n",
            "(employees, experiencing, negative reciprocity)\n",
            "(employees, engage in, behaviors)\n",
            "(behaviors, harm, organization)\n",
            "(behaviors, harm, leader)\n",
            "(organization, react to, leaders' abusive behavior)\n",
            "(organization, harm, leaders' abusive behavior)\n",
            "(hiding, is method to harm, organization)\n",
            "(creative individuals, are likely to leave, company)\n",
            "(Zhou et al., found, no meaningful gender differences)\n",
            "(Zhou et al., identified, no direct link between alcohol abuse and negative leadership)\n",
            "(response, tends to lead to, positive workplace outcomes)\n",
            "(response, will not be favorable for, high power distance cultures)\n",
            "(power distance cultures, have, effect)\n",
            "(abusive leadership, affects, employee performance)\n",
            "(employees, provide, feedback)\n",
            "(abusive supervision, impact on, employees' silence)\n",
            "(research, identified, six emerging trends)\n",
            "(abusive leadership, has, detrimental effects)\n",
            "(Raza et al., 2019, enhancement of employees' psychological capital, mitigate the impact of abusive supervision)\n",
            "(Eissa & Lester, 2017, minimization of abusive leadership, achieved through various human resources methods)\n",
            "(literature review, examined, present state of research)\n",
            "(abusive leadership, prevents or minimizes, effective response)\n",
            "(research, may be concerned with, interventions)\n",
            "(abusive leadership, relationship with, employee productivity)\n",
            "(Journal of Organizational Behavior, is, Web)\n",
            "(Journal of Organizational Behavior, has volume, 38)\n",
            "(Journal of Organizational Behavior, has issue, 3)\n",
            "(Journal of Organizational Behavior, has page range, 307-326)\n",
            "(Han, impact on, employees' sleep)\n",
            "(Haryanto, relationship between, abusive supervision and performance)\n",
            "(Liu, Gul, Zhang)\n",
            "(Liu, Gul, Raza)\n",
            "(Abusive supervision, potential role of, meaning in life)\n",
            "(Suicidal ideation, potential role of, meaning in life)\n",
            "(meaning in life, Deviant Behavior, 1-12)\n",
            "(Liu, Politics under abusive supervision, the role of Machiavellianism and guanxi)\n",
            "(Lopes, Coping with perceived abusive supervision, the role of paranoia)\n",
            "(Mackey, Abusive supervision, a meta-analysis and empirical review)\n",
            "(Matos, Toxic leadership and the masculinity contest culture, how \"win or die\" cultures breed abusive leadership)\n",
            "(Mullen, Destructive forms of leadership)\n",
            "(Ng, Transformational leadership and performance outcomes, analyses of multiple mediation pathways)\n",
            "(Nielsen, Exposure to workplace harassment, the Five Factor Model of personality, a meta-analysis)\n",
            "(Niessen, Thriving when exhausted, the role of perceived transformational leadership)\n",
            "(Journal of Vocational Behavior, is, 103)\n",
            "(Journal of Vocational Behavior, is, 41-51)\n",
            "(Triplets cannot be extracted from the given text as it does not contain any meaningful information or sentences.)\n",
            "(Tahira, Saif, Haroon)\n",
            "(Taylor, Griffith, Vadera)\n",
            "(Zhang, conducted, literature review)\n",
            "(Zhou, studied, gender differences)\n"
          ]
        }
      ]
    },
    {
      "cell_type": "code",
      "source": [],
      "metadata": {
        "id": "TzHguHIQWwg2"
      },
      "execution_count": null,
      "outputs": []
    },
    {
      "cell_type": "code",
      "source": [
        "query_engine = index.as_query_engine(include_text=False, response_mode=\"tree_summarize\")\n",
        "\n",
        "response = query_engine.query(\"Abusive supervision sleep patterns\")"
      ],
      "metadata": {
        "id": "uhlE6i5GDI2X",
        "colab": {
          "base_uri": "https://localhost:8080/"
        },
        "outputId": "623244c3-d901-44dc-9864-f509873bacf7"
      },
      "execution_count": null,
      "outputs": [
        {
          "output_type": "stream",
          "name": "stderr",
          "text": [
            "WARNING:llama_index.indices.knowledge_graph.retrievers:Index was not constructed with embeddings, skipping embedding usage...\n"
          ]
        }
      ]
    },
    {
      "cell_type": "code",
      "source": [
        "print(response)"
      ],
      "metadata": {
        "colab": {
          "base_uri": "https://localhost:8080/"
        },
        "id": "Ih73onuhagj9",
        "outputId": "74aebdba-6e87-45ce-c307-3b6ca581a261"
      },
      "execution_count": null,
      "outputs": [
        {
          "output_type": "stream",
          "name": "stdout",
          "text": [
            "Abusive supervision can have a negative impact on sleep patterns.\n"
          ]
        }
      ]
    }
  ],
  "metadata": {
    "colab": {
      "gpuType": "T4",
      "provenance": []
    },
    "gpuClass": "standard",
    "kernelspec": {
      "display_name": "Python 3",
      "name": "python3"
    },
    "language_info": {
      "name": "python"
    }
  },
  "nbformat": 4,
  "nbformat_minor": 0
}